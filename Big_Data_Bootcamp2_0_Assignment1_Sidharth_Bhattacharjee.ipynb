{
  "nbformat": 4,
  "nbformat_minor": 0,
  "metadata": {
    "colab": {
      "provenance": [],
      "collapsed_sections": []
    },
    "kernelspec": {
      "name": "python3",
      "display_name": "Python 3"
    },
    "language_info": {
      "name": "python"
    }
  },
  "cells": [
    {
      "cell_type": "markdown",
      "source": [
        "Assignment Part-1\n",
        "\n",
        "Q1. Why do we call Python as a general purpose and high-level programming language?**\n",
        "\n",
        "Ans: Python is a general purpose language as it is used in wide variety of domains such as webservices, websites and enterprise applications. It is not restricted to a particular domain. Due to its immense popularity, python has libraries for all kinds of purposes. It is also a high level language as it is easy to read and close to language like. It also provides certain amount of abstraction which is missing in low-level languages.\n"
      ],
      "metadata": {
        "id": "JoDWtd7isZgZ"
      }
    },
    {
      "cell_type": "markdown",
      "source": [
        "Q2. Why is Python called a dynamically typed language?\n",
        "\n",
        "Ans: Python is called dynamically typed as the same variable can have different type at different times of execution. \n",
        "For eg:\n",
        "Initially, \n",
        "a = 5 \n",
        "then a can be updated, and\n",
        "a = “Sidharth” is also valid. Here a changed type from a int type variable to a string type variable. This is a valid operation in python and therefore, it is called as dynamically typed language. \n"
      ],
      "metadata": {
        "id": "fSvS9mMjsrqW"
      }
    },
    {
      "cell_type": "markdown",
      "source": [
        "Q3. List some pros and cons of Python programming language?\n",
        "\n",
        "Ans: Some pros of python are:\n",
        "a)\tIt is a HLL and therefore, easy for beginners.\n",
        "b)\tIt has a large community of active users which provides support. \n",
        "c)\tIt is quite flexible and extensible to different domains.\n",
        "d)\tThere are huge number of libraries available for different domains. \n",
        "e)\tIt can be used in embedded systems. \n",
        "f)\tIt is scalable in nature. \n",
        "Some cons of python are:\n",
        "a)\tThere are some issues with the design of the language. \n",
        "b)\tIt is slower than compiled language as it is interpreted one. \n",
        "c)\tThere are some security issues in python. \n",
        "d)\tIt has high memory consumption as compared to other compiled languages. \n",
        "e)\tDynamically typed languages can give value erroe and user has to track the changes in the variable carefully. \n"
      ],
      "metadata": {
        "id": "F1eDqdAytjAK"
      }
    },
    {
      "cell_type": "markdown",
      "source": [
        "Q4. In what all domains can we use Python?\n",
        "\n",
        "Ans: Webservices, data science, machine learning, web development, computer vision, data engineering are some of the fields where python can be used. \n"
      ],
      "metadata": {
        "id": "JBbeT1W0tqUa"
      }
    },
    {
      "cell_type": "markdown",
      "source": [
        "Q5. What are variable and how can we declare them?\n",
        "\n",
        "Ans: Variable is a holder of value. It can be directly initialized by providing the value or it can also be declared using datatype such as int, float, str etc. \n",
        "For eg: \n",
        "a = 5\n",
        "a = int(5)\n",
        "b = str(“abc”)\n"
      ],
      "metadata": {
        "id": "1EIYbOSwtxwq"
      }
    },
    {
      "cell_type": "markdown",
      "source": [
        "Q6. How can we take an input from the user in Python?\n",
        "\n",
        "Ans: One can take input in python by using the input() function. \n"
      ],
      "metadata": {
        "id": "gnBGKVHRuEsq"
      }
    },
    {
      "cell_type": "markdown",
      "source": [
        "Q7. What is the default datatype of the value that has been taken as an input using input() function?\n",
        "\n",
        "Ans: The default type using input() is string.\n"
      ],
      "metadata": {
        "id": "5dcBtAdYuH2a"
      }
    },
    {
      "cell_type": "markdown",
      "source": [
        "Q8. What is type casting?\n",
        "\n",
        "Ans: Typecasting is when the type of the variable is excplicity done. \n",
        "For eg:\n",
        "a = str(“ABS2120)\n",
        "b = float(532.5200)\n"
      ],
      "metadata": {
        "id": "Gfg1JGIfuTB6"
      }
    },
    {
      "cell_type": "markdown",
      "source": [
        "Q9. Can we take more than one input from the user using single input() function? If yes, how? If no, why?\n",
        "\n",
        "Ans: Yes, it can be done using the split variable. \n",
        "\n"
      ],
      "metadata": {
        "id": "7cOG3D3zuWzZ"
      }
    },
    {
      "cell_type": "code",
      "source": [
        "x = [int(x) for x in input(\"Enter multiple value: \").split(\",\")]\n",
        "print(\"Number of list is: \", x) \n"
      ],
      "metadata": {
        "colab": {
          "base_uri": "https://localhost:8080/"
        },
        "id": "Q0S5wEKKuw1z",
        "outputId": "1d601b76-b059-4c80-8709-e78e9b42f3b1"
      },
      "execution_count": null,
      "outputs": [
        {
          "output_type": "stream",
          "name": "stdout",
          "text": [
            "Enter multiple value: 10, 5, 12\n",
            "Number of list is:  [10, 5, 12]\n"
          ]
        }
      ]
    },
    {
      "cell_type": "markdown",
      "source": [
        "Q10. What are keywords?\n",
        "\n",
        "Ans: Keywords are reserved words that cannot be used as variables, function names or any other identifiers. \n"
      ],
      "metadata": {
        "id": "TLrnSJHaxCWa"
      }
    },
    {
      "cell_type": "markdown",
      "source": [
        "Q11. Can we use keywords as a variable? Support your answer with reason.\n",
        "\n",
        "Ans: No keywords cannot be used as variable as they are reserved for internal use of python. \n"
      ],
      "metadata": {
        "id": "o9T099FAxHxK"
      }
    },
    {
      "cell_type": "markdown",
      "source": [
        "Q12. What is indentation? What's the use of indentaion in Python?\n",
        "\n",
        "Ans: Python uses indentation using whitespace to highlight the blocks of code, for indentation in python. The lines which are of some distance from the left are of same block by default. \n"
      ],
      "metadata": {
        "id": "cg4BRLWjxMYS"
      }
    },
    {
      "cell_type": "markdown",
      "source": [
        "Q13. How can we throw some output in Python?\n",
        "\n",
        "Ans: Output can be shown in python using print() statements. \n"
      ],
      "metadata": {
        "id": "WI8V-eAFxW2R"
      }
    },
    {
      "cell_type": "markdown",
      "source": [
        "Q14. What are operators in Python?\n",
        "\n",
        "Ans: Operators are operands which are used to perform operations between variables in python.\n"
      ],
      "metadata": {
        "id": "qRs8ov6bxZx7"
      }
    },
    {
      "cell_type": "markdown",
      "source": [
        "Q15. What is difference between / and // operators?\n",
        "\n",
        "Ans: The operator ‘/’ is used for division between two numbers. The operator “//” is used for floor division. The value returned after “//” operator is integer in value. \n"
      ],
      "metadata": {
        "id": "dW0iQox4xecJ"
      }
    },
    {
      "cell_type": "markdown",
      "source": [
        "Write a code that gives following as an output.\n",
        "```\n",
        "iNeuroniNeuroniNeuroniNeuron\n",
        "```\n"
      ],
      "metadata": {
        "id": "UClMiaVxBpbe"
      }
    },
    {
      "cell_type": "code",
      "source": [
        "a = 'iNeuron'\n",
        "print(a*4)\n"
      ],
      "metadata": {
        "colab": {
          "base_uri": "https://localhost:8080/"
        },
        "id": "oCVCedzWBtF6",
        "outputId": "bd90b7a4-944a-44c9-e163-99c5f417ea8c"
      },
      "execution_count": null,
      "outputs": [
        {
          "output_type": "stream",
          "name": "stdout",
          "text": [
            "iNeuroniNeuroniNeuroniNeuron\n"
          ]
        }
      ]
    },
    {
      "cell_type": "markdown",
      "source": [
        "Q17. Write a code to take a number as an input from the user and check if the number is odd or even.\n",
        "\n",
        "Ans: \n"
      ],
      "metadata": {
        "id": "-IA25oHnB_fk"
      }
    },
    {
      "cell_type": "code",
      "source": [
        "a = int(input('Please enter a number'))\n",
        "if a%2==0:\n",
        "  print('The number entered is Even')\n",
        "else:\n",
        "  print('The number entered is Odd')\n"
      ],
      "metadata": {
        "colab": {
          "base_uri": "https://localhost:8080/"
        },
        "id": "sFawHfIYCBkP",
        "outputId": "892ebdbe-ed0c-40e6-a20e-d2442f8f9938"
      },
      "execution_count": null,
      "outputs": [
        {
          "output_type": "stream",
          "name": "stdout",
          "text": [
            "Please enter a number14\n",
            "The number entered is Even\n"
          ]
        }
      ]
    },
    {
      "cell_type": "markdown",
      "source": [
        "Q18. What are boolean operator?\n",
        "\n",
        "Ans: Boolean operators are used for logical expressions between variables. The commonly used Boolean operators are AND, OR, NOT, AND NOT.\n"
      ],
      "metadata": {
        "id": "inl4TVvLC4ui"
      }
    },
    {
      "cell_type": "markdown",
      "source": [
        "Q19. What will the output of the following?\n",
        "```\n",
        "1 or 0\n",
        "\n",
        "0 and 0\n",
        "\n",
        "True and False and True\n",
        "\n",
        "1 or 0 or 0\n",
        "```\n",
        "\n"
      ],
      "metadata": {
        "id": "7ZSUwUYODzai"
      }
    },
    {
      "cell_type": "code",
      "source": [
        "print(True or 0)\n",
        "print(0 and 0)\n",
        "print(True and False and True)\n",
        "print(1 or 0 or 0)"
      ],
      "metadata": {
        "colab": {
          "base_uri": "https://localhost:8080/"
        },
        "id": "6sEYQAMgD2uO",
        "outputId": "49040af5-e10c-4c12-d41c-43e29f123436"
      },
      "execution_count": null,
      "outputs": [
        {
          "output_type": "stream",
          "name": "stdout",
          "text": [
            "True\n",
            "0\n",
            "False\n",
            "1\n"
          ]
        }
      ]
    },
    {
      "cell_type": "markdown",
      "source": [
        "Q20. What are conditional statements in Python?\n",
        "\n",
        "Ans: Conditional statements are used to check if they are true or not and implement the code block inside based on the condition.\n"
      ],
      "metadata": {
        "id": "EQL8RsHiE4qf"
      }
    },
    {
      "cell_type": "code",
      "source": [
        "age = int(input ('Please enter your age'))\n",
        "if age>=18:\n",
        "  print('I can vote')\n",
        "else:\n",
        "  print('can’t vote')\n"
      ],
      "metadata": {
        "colab": {
          "base_uri": "https://localhost:8080/"
        },
        "id": "uwmrDkC6E-RW",
        "outputId": "c411bafd-a085-43ca-887b-ca4b83bc3f21"
      },
      "execution_count": null,
      "outputs": [
        {
          "output_type": "stream",
          "name": "stdout",
          "text": [
            "Please enter your age30\n",
            "I can vote\n"
          ]
        }
      ]
    },
    {
      "cell_type": "markdown",
      "source": [
        "\n",
        "Q23. Write a code that displays the sum of all the even numbers from the given list.\n",
        "```\n",
        "numbers = [12, 75, 150, 180, 145, 525, 50]\n",
        "```\n"
      ],
      "metadata": {
        "id": "QpaPsfAPHf3m"
      }
    },
    {
      "cell_type": "code",
      "source": [
        "numbers = [12, 75, 150, 180, 145, 525, 50]\n",
        "total = 0\n",
        "for num in numbers:\n",
        "  if num%2 == 0:  \n",
        "   total = total+num\n",
        "print(total)\n"
      ],
      "metadata": {
        "colab": {
          "base_uri": "https://localhost:8080/"
        },
        "id": "fv41UQPJHhMz",
        "outputId": "bd98c2af-5702-42d9-b451-cb5bd47b62e1"
      },
      "execution_count": null,
      "outputs": [
        {
          "output_type": "stream",
          "name": "stdout",
          "text": [
            "392\n"
          ]
        }
      ]
    },
    {
      "cell_type": "markdown",
      "source": [
        "Q24. Write a code to take 3 numbers as an input from the user and display the greatest no as output.\n"
      ],
      "metadata": {
        "id": "7tOc9mYfJaPb"
      }
    },
    {
      "cell_type": "code",
      "source": [
        "a,b,c = [ int(x) for x in input('Please enter 3 numbers separated by commas').split(\",\")]\n",
        "max_num = max(a,b,c)\n",
        "print('the greatest no. is {}'.format(max_num))"
      ],
      "metadata": {
        "colab": {
          "base_uri": "https://localhost:8080/"
        },
        "id": "bKSiIPNIJs-i",
        "outputId": "5c81f80b-a013-42ad-c394-b84d79cf7fd3"
      },
      "execution_count": 3,
      "outputs": [
        {
          "output_type": "stream",
          "name": "stdout",
          "text": [
            "Please enter 3 numbers separated by commas200, 400, 5\n",
            "the greatest no. is 400\n"
          ]
        }
      ]
    },
    {
      "cell_type": "markdown",
      "source": [
        "Q25. Write a program to display only those numbers from a list that satisfy the following conditions\n",
        "\n",
        "- The number must be divisible by five\n",
        "\n",
        "- If the number is greater than 150, then skip it and move to the next number\n",
        "\n",
        "- If the number is greater than 500, then stop the loop\n",
        "```\n",
        "numbers = [12, 75, 150, 180, 145, 525, 50]\n",
        "```\n"
      ],
      "metadata": {
        "id": "bhUSgaLkKQbN"
      }
    },
    {
      "cell_type": "code",
      "source": [
        "numbers = [12, 75, 150, 180, 145, 525, 50]\n",
        "\n",
        "for key, val in enumerate(numbers):\n",
        "  if val%5==0:\n",
        "    if val> 150:\n",
        "      continue\n",
        "    elif val>500:\n",
        "      break\n",
        "    else:\n",
        "      print(val)"
      ],
      "metadata": {
        "colab": {
          "base_uri": "https://localhost:8080/"
        },
        "id": "w8mUWrRXCXW3",
        "outputId": "436d4c14-59b7-4603-e641-2b955f3618b1"
      },
      "execution_count": 6,
      "outputs": [
        {
          "output_type": "stream",
          "name": "stdout",
          "text": [
            "75\n",
            "150\n",
            "145\n",
            "50\n"
          ]
        }
      ]
    },
    {
      "cell_type": "code",
      "source": [],
      "metadata": {
        "id": "eryzKRU2Dred"
      },
      "execution_count": null,
      "outputs": []
    }
  ]
}